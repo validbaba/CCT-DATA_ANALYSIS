{
 "cells": [
  {
   "cell_type": "code",
   "execution_count": 9,
   "id": "71ddf40f",
   "metadata": {
    "scrolled": true
   },
   "outputs": [
    {
     "ename": "TypeError",
     "evalue": "'int' object is not iterable",
     "output_type": "error",
     "traceback": [
      "\u001b[1;31m---------------------------------------------------------------------------\u001b[0m",
      "\u001b[1;31mTypeError\u001b[0m                                 Traceback (most recent call last)",
      "\u001b[1;32mC:\\Users\\PRINCE~1\\AppData\\Local\\Temp/ipykernel_8808/2874241253.py\u001b[0m in \u001b[0;36m<module>\u001b[1;34m\u001b[0m\n\u001b[0;32m      1\u001b[0m \u001b[0mrty\u001b[0m \u001b[1;33m=\u001b[0m \u001b[1;33m(\u001b[0m\u001b[1;34m\"banana\"\u001b[0m\u001b[1;33m)\u001b[0m\u001b[1;33m\u001b[0m\u001b[1;33m\u001b[0m\u001b[0m\n\u001b[1;32m----> 2\u001b[1;33m \u001b[1;32mfor\u001b[0m \u001b[0md\u001b[0m \u001b[1;32min\u001b[0m \u001b[0mlen\u001b[0m\u001b[1;33m(\u001b[0m\u001b[0mrty\u001b[0m\u001b[1;33m)\u001b[0m\u001b[1;33m:\u001b[0m\u001b[1;33m\u001b[0m\u001b[1;33m\u001b[0m\u001b[0m\n\u001b[0m\u001b[0;32m      3\u001b[0m   \u001b[0mprint\u001b[0m\u001b[1;33m(\u001b[0m\u001b[0mrty\u001b[0m\u001b[1;33m)\u001b[0m\u001b[1;33m\u001b[0m\u001b[1;33m\u001b[0m\u001b[0m\n",
      "\u001b[1;31mTypeError\u001b[0m: 'int' object is not iterable"
     ]
    }
   ],
   "source": [
    "rty = (\"banana\")\n",
    "for i in range(len(rty)):\n",
    "  print(rty[:1])\n"
   ]
  },
  {
   "cell_type": "code",
   "execution_count": 27,
   "id": "351f31c0",
   "metadata": {},
   "outputs": [
    {
     "ename": "SyntaxError",
     "evalue": "invalid non-printable character U+00A0 (Temp/ipykernel_8808/2776059795.py, line 6)",
     "output_type": "error",
     "traceback": [
      "\u001b[1;36m  File \u001b[1;32m\"C:\\Users\\PRINCE~1\\AppData\\Local\\Temp/ipykernel_8808/2776059795.py\"\u001b[1;36m, line \u001b[1;32m6\u001b[0m\n\u001b[1;33m    print (\"number of a: \" + str(counter))\u001b[0m\n\u001b[1;37m                          ^\u001b[0m\n\u001b[1;31mSyntaxError\u001b[0m\u001b[1;31m:\u001b[0m invalid non-printable character U+00A0\n"
     ]
    }
   ],
   "source": [
    "fruit = \"banana\"\n",
    "counter = 0\n",
    "for c in fruit:\n",
    "    if c == \"a\" :\n",
    "        counter += 1\n",
    "print (\"number of a: \" + str(counter))"
   ]
  },
  {
   "cell_type": "code",
   "execution_count": 58,
   "id": "1e2d4521",
   "metadata": {},
   "outputs": [
    {
     "name": "stdout",
     "output_type": "stream",
     "text": [
      "List of Fruits\t\tNo\n",
      "==============\t\t==\n",
      "1. mango\t\t2\n",
      "2. orange\t\t1\n",
      "3. apple\t\t2\n",
      "4. pawpaw\t\t1\n",
      "5. banana\t\t2\n",
      "6. guava\t\t1\n",
      "7. grape\t\t2\n",
      "___________________\n",
      "\n",
      "SUM TOTAL: \t\t11\n",
      "___________________\n"
     ]
    }
   ],
   "source": [
    "fruits = ['banana','orange','apple','mango','pawpaw','grape','guava','mango','banana','apple','grape']\n",
    "no_of_fruits = len(fruits)\n",
    "set_of_fruits = set()\n",
    "fruit_frequency = dict()\n",
    "\n",
    "\n",
    "print('List of Fruits\\t\\tNo')\n",
    "print('==============\\t\\t==')\n",
    "\n",
    "for i in range(no_of_fruits):\n",
    "    set_of_fruits.add(fruits[i])\n",
    "    \n",
    "for fruit in set_of_fruits:\n",
    "    fruit_frequency[fruit] = 0\n",
    "    \n",
    "for fruit in fruits:\n",
    "    fruit_frequency[fruit] += 1\n",
    "    \n",
    "item_no = 0\n",
    "sum_total = 0\n",
    "#for fruit in fruit_frequency:\n",
    "     \n",
    "for fruit in fruit_frequency:\n",
    "    item_no += 1\n",
    "    print(str(item_no) + '. ' + fruit +'\\t\\t'+ str(fruit_frequency[fruit]))\n",
    "    sum_total += fruit_frequency [fruit]\n",
    "print('___________________')\n",
    "print ('\\nSUM TOTAL: \\t\\t' + str(sum_total))\n",
    "print('___________________')    "
   ]
  },
  {
   "cell_type": "code",
   "execution_count": 82,
   "id": "1f550a7e",
   "metadata": {},
   "outputs": [
    {
     "name": "stdout",
     "output_type": "stream",
     "text": [
      "1 2 3 4 5 6 7 8 9 10 11 12 13 14 15 16 17 18 19 20 21 22 23 24 25 26 27 28 29 30 31 32 33 34 35 36 37 38 39 40 41 42 43 44 45 46 47 48 49 50 51 52 53 54 55 56 57 58 59 60 61 62 63 64 65 66 67 68 69 70 71 72 73 74 75 76 77 78 79 80 81 82 83 84 85 86 87 88 89 90 91 92 93 94 95 96 97 98 99 100 None\n"
     ]
    }
   ],
   "source": [
    "def number(count):\n",
    "    while count !=101:\n",
    "      print(count, end=' ')\n",
    "      count=count+1;\n",
    "   # if number > 100:\n",
    "print(number(1))"
   ]
  },
  {
   "cell_type": "code",
   "execution_count": 110,
   "id": "4d6d8c9e",
   "metadata": {},
   "outputs": [
    {
     "name": "stdout",
     "output_type": "stream",
     "text": [
      "A B C D E F G H I J K L M N O P Q R S T U V W X Y "
     ]
    }
   ],
   "source": [
    "for i in range(97,123):\n",
    " print(chr(i) end=\" \")\n",
    "\n",
    "for i in range(65,90):\n",
    " print(chr(i), end=\" \")\n"
   ]
  },
  {
   "cell_type": "code",
   "execution_count": 8,
   "id": "cdef8f1f",
   "metadata": {},
   "outputs": [
    {
     "ename": "SyntaxError",
     "evalue": "invalid syntax (Temp/ipykernel_9528/2552441190.py, line 6)",
     "output_type": "error",
     "traceback": [
      "\u001b[1;36m  File \u001b[1;32m\"C:\\Users\\PRINCE~1\\AppData\\Local\\Temp/ipykernel_9528/2552441190.py\"\u001b[1;36m, line \u001b[1;32m6\u001b[0m\n\u001b[1;33m    for c in range (9)\u001b[0m\n\u001b[1;37m                      ^\u001b[0m\n\u001b[1;31mSyntaxError\u001b[0m\u001b[1;31m:\u001b[0m invalid syntax\n"
     ]
    }
   ],
   "source": [
    "num = \"1\"\n",
    "counter = 0\n",
    "for c in num:\n",
    "    if c == \"a\" :\n",
    "        counter ** 2 \n",
    "        for c in range (9)\n",
    "print (c)"
   ]
  },
  {
   "cell_type": "code",
   "execution_count": 9,
   "id": "d3a54352",
   "metadata": {},
   "outputs": [
    {
     "data": {
      "text/plain": [
       "[1, 2, 4, 8, 16, 32, 64, 128, 256]"
      ]
     },
     "execution_count": 9,
     "metadata": {},
     "output_type": "execute_result"
    }
   ],
   "source": [
    "num = [2 ** n for n in range(9)]\n",
    "num"
   ]
  },
  {
   "cell_type": "markdown",
   "id": "85331b2c",
   "metadata": {},
   "source": []
  },
  {
   "cell_type": "code",
   "execution_count": 11,
   "id": "55da2d46",
   "metadata": {},
   "outputs": [
    {
     "ename": "SyntaxError",
     "evalue": "invalid syntax (Temp/ipykernel_9528/1014414595.py, line 1)",
     "output_type": "error",
     "traceback": [
      "\u001b[1;36m  File \u001b[1;32m\"C:\\Users\\PRINCE~1\\AppData\\Local\\Temp/ipykernel_9528/1014414595.py\"\u001b[1;36m, line \u001b[1;32m1\u001b[0m\n\u001b[1;33m    numb = [2 **]\u001b[0m\n\u001b[1;37m                ^\u001b[0m\n\u001b[1;31mSyntaxError\u001b[0m\u001b[1;31m:\u001b[0m invalid syntax\n"
     ]
    }
   ],
   "source": [
    "n"
   ]
  },
  {
   "cell_type": "code",
   "execution_count": 8,
   "id": "156982b0",
   "metadata": {},
   "outputs": [
    {
     "name": "stdout",
     "output_type": "stream",
     "text": [
      "[2, 4, 6, 8, 10]\n"
     ]
    }
   ],
   "source": [
    "even_num = filter (lambda x: x % 2 == 0,[1,2,3,4,5,6,7,8,9,10])\n",
    "print(list(even_num))"
   ]
  },
  {
   "cell_type": "code",
   "execution_count": 12,
   "id": "bc05cbaa",
   "metadata": {},
   "outputs": [
    {
     "ename": "SyntaxError",
     "evalue": "invalid syntax (Temp/ipykernel_1380/397864749.py, line 2)",
     "output_type": "error",
     "traceback": [
      "\u001b[1;36m  File \u001b[1;32m\"C:\\Users\\PRINCE~1\\AppData\\Local\\Temp/ipykernel_1380/397864749.py\"\u001b[1;36m, line \u001b[1;32m2\u001b[0m\n\u001b[1;33m    filter lambda x: x % 2 == 0,\u001b[0m\n\u001b[1;37m           ^\u001b[0m\n\u001b[1;31mSyntaxError\u001b[0m\u001b[1;31m:\u001b[0m invalid syntax\n"
     ]
    }
   ],
   "source": [
    "num =[1,2,3,4,5,6,7,8,9,10]\n",
    "filter lambda x: x % 2 == 0,\n",
    "print(list(result))"
   ]
  },
  {
   "cell_type": "code",
   "execution_count": 9,
   "id": "21512c5f",
   "metadata": {},
   "outputs": [],
   "source": [
    "p1 = 12\n",
    "j1 = 20"
   ]
  },
  {
   "cell_type": "code",
   "execution_count": 10,
   "id": "9ef7ef57",
   "metadata": {},
   "outputs": [],
   "source": [
    "p1,j1 =j1,p1"
   ]
  },
  {
   "cell_type": "code",
   "execution_count": 11,
   "id": "d9a58959",
   "metadata": {},
   "outputs": [
    {
     "name": "stdout",
     "output_type": "stream",
     "text": [
      "p1 = 20 p1 = 20\n"
     ]
    }
   ],
   "source": [
    "print('p1 = ' + str(p1), 'p1 = ' + str(p1))"
   ]
  },
  {
   "cell_type": "code",
   "execution_count": 25,
   "id": "9279a29f",
   "metadata": {},
   "outputs": [],
   "source": [
    "def switch (p1,j1):\n",
    "    val1,val2 =j1,p1\n",
    "    return val1,val2"
   ]
  },
  {
   "cell_type": "code",
   "execution_count": 26,
   "id": "6003ad65",
   "metadata": {},
   "outputs": [
    {
     "name": "stdout",
     "output_type": "stream",
     "text": [
      "20 12\n"
     ]
    }
   ],
   "source": [
    "p1,j1 = switch(p1,j1)\n",
    "print(p1,j1)"
   ]
  },
  {
   "cell_type": "code",
   "execution_count": 27,
   "id": "9ade5dda",
   "metadata": {},
   "outputs": [],
   "source": []
  },
  {
   "cell_type": "code",
   "execution_count": 44,
   "id": "1f78edc5",
   "metadata": {},
   "outputs": [],
   "source": [
    "def add(j,g):\n",
    "    rst = j+g\n",
    "    return rst"
   ]
  },
  {
   "cell_type": "code",
   "execution_count": 45,
   "id": "f186ebc7",
   "metadata": {},
   "outputs": [],
   "source": [
    "j= 2\n",
    "g= 7"
   ]
  },
  {
   "cell_type": "code",
   "execution_count": 46,
   "id": "3ff205e2",
   "metadata": {},
   "outputs": [
    {
     "data": {
      "text/plain": [
       "9"
      ]
     },
     "execution_count": 46,
     "metadata": {},
     "output_type": "execute_result"
    }
   ],
   "source": [
    "add(j,g)"
   ]
  },
  {
   "cell_type": "code",
   "execution_count": 48,
   "id": "f13bfa6f",
   "metadata": {},
   "outputs": [],
   "source": [
    "from statistics import mean"
   ]
  },
  {
   "cell_type": "code",
   "execution_count": 55,
   "id": "1ecf683a",
   "metadata": {},
   "outputs": [],
   "source": [
    "def mean(numbers):\n",
    "    total=sum(numbers)\n",
    "    count=len(numbers)\n",
    "    return total / count"
   ]
  },
  {
   "cell_type": "code",
   "execution_count": 57,
   "id": "754db605",
   "metadata": {},
   "outputs": [
    {
     "name": "stdout",
     "output_type": "stream",
     "text": [
      "6.0\n"
     ]
    }
   ],
   "source": [
    "numbers = [2,4,6,8,10]\n",
    "print(mean(numbers))"
   ]
  },
  {
   "cell_type": "code",
   "execution_count": 58,
   "id": "f15bab0d",
   "metadata": {},
   "outputs": [],
   "source": [
    "def mean(a,b,c,d):\n",
    "    val = (a+b+c+d)/4\n",
    "    return val"
   ]
  },
  {
   "cell_type": "code",
   "execution_count": 63,
   "id": "213b4f72",
   "metadata": {},
   "outputs": [
    {
     "data": {
      "text/plain": [
       "5.0"
      ]
     },
     "execution_count": 63,
     "metadata": {},
     "output_type": "execute_result"
    }
   ],
   "source": [
    "x=2\n",
    "y=4\n",
    "z=6\n",
    "v=8\n",
    "result = mean(x,y,z,v)\n",
    "result "
   ]
  },
  {
   "cell_type": "code",
   "execution_count": 83,
   "id": "817af9aa",
   "metadata": {},
   "outputs": [],
   "source": [
    "def square(a):\n",
    "    val = (a*a)\n",
    "    return val"
   ]
  },
  {
   "cell_type": "code",
   "execution_count": 84,
   "id": "1c7bd7a6",
   "metadata": {},
   "outputs": [
    {
     "data": {
      "text/plain": [
       "25"
      ]
     },
     "execution_count": 84,
     "metadata": {},
     "output_type": "execute_result"
    }
   ],
   "source": [
    "a=5\n",
    "result = square(a)\n",
    "result"
   ]
  },
  {
   "cell_type": "code",
   "execution_count": null,
   "id": "9f66f0bb",
   "metadata": {},
   "outputs": [],
   "source": [
    "def absolute(a=a):\n",
    "    \n",
    "    return val"
   ]
  }
 ],
 "metadata": {
  "kernelspec": {
   "display_name": "Python 3 (ipykernel)",
   "language": "python",
   "name": "python3"
  },
  "language_info": {
   "codemirror_mode": {
    "name": "ipython",
    "version": 3
   },
   "file_extension": ".py",
   "mimetype": "text/x-python",
   "name": "python",
   "nbconvert_exporter": "python",
   "pygments_lexer": "ipython3",
   "version": "3.9.7"
  }
 },
 "nbformat": 4,
 "nbformat_minor": 5
}
